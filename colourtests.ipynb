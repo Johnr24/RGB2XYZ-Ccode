{
 "cells": [
  {
   "cell_type": "code",
   "execution_count": 22,
   "metadata": {},
   "outputs": [],
   "source": [
    "import colour\n",
    "import numpy as np"
   ]
  },
  {
   "cell_type": "code",
   "execution_count": null,
   "metadata": {},
   "outputs": [],
   "source": []
  },
  {
   "cell_type": "code",
   "execution_count": 23,
   "metadata": {},
   "outputs": [],
   "source": [
    "ITU709toXYZ_matrix = [[3.080342, -1.537399, -0.542943], [-0.921179, 1.875930, 0.045248], [0.052881, -0.204011, 1.151130]]\n",
    "XYZtoITU709_matrix = [[0.433895, 0.376242, 0.189862], [0.212637, 0.715183, 0.072180], [0.017752, 0.109466, 0.872782]]\n",
    "\n"
   ]
  },
  {
   "cell_type": "markdown",
   "metadata": {},
   "source": []
  },
  {
   "cell_type": "code",
   "execution_count": 24,
   "metadata": {},
   "outputs": [
    {
     "name": "stdout",
     "output_type": "stream",
     "text": [
      "[[ 0.4338955   0.37624247  0.1898624 ]\n",
      " [ 0.21263702  0.71518317  0.07218053]\n",
      " [ 0.01775252  0.10946562  0.87278197]]\n",
      "\n",
      "[[0.433895, 0.376242, 0.189862], [0.212637, 0.715183, 0.07218], [0.017752, 0.109466, 0.872782]]\n"
     ]
    }
   ],
   "source": [
    "#inverse the 709 matrix\n",
    "ITU709toXYZ_matrix = np.linalg.inv(ITU709toXYZ_matrix)\n",
    "print(ITU709toXYZ_matrix)\n",
    "print(\"\")\n",
    "print(XYZtoITU709_matrix)"
   ]
  },
  {
   "cell_type": "code",
   "execution_count": 25,
   "metadata": {},
   "outputs": [],
   "source": [
    "colour.gamma_function()"
   ]
  },
  {
   "cell_type": "code",
   "execution_count": null,
   "metadata": {},
   "outputs": [],
   "source": []
  }
 ],
 "metadata": {
  "kernelspec": {
   "display_name": "python-colour",
   "language": "python",
   "name": "python3"
  },
  "language_info": {
   "codemirror_mode": {
    "name": "ipython",
    "version": 3
   },
   "file_extension": ".py",
   "mimetype": "text/x-python",
   "name": "python",
   "nbconvert_exporter": "python",
   "pygments_lexer": "ipython3",
   "version": "3.12.4"
  }
 },
 "nbformat": 4,
 "nbformat_minor": 2
}
